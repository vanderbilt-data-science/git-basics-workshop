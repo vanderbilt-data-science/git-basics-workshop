{
 "cells": [
  {
   "cell_type": "markdown",
   "id": "d767b934",
   "metadata": {},
   "source": [
    "# Installing Git"
   ]
  },
  {
   "cell_type": "markdown",
   "id": "6e21ef76",
   "metadata": {},
   "source": [
    "The sections below will include instructions for installing Git before our next workshop."
   ]
  },
  {
   "cell_type": "markdown",
   "id": "19ba0349",
   "metadata": {},
   "source": [
    "## Windows"
   ]
  },
  {
   "cell_type": "markdown",
   "id": "cb346d46",
   "metadata": {},
   "source": [
    "On Windows, you can download Git from the following link: https://git-scm.com/download/win"
   ]
  },
  {
   "cell_type": "markdown",
   "id": "e55e9043",
   "metadata": {},
   "source": [
    "## Mac"
   ]
  },
  {
   "cell_type": "markdown",
   "id": "b3861bb3",
   "metadata": {},
   "source": [
    "On OSx, you can download Git from the following link: https://sourceforge.net/projects/git-osx-installer/\n",
    "\n",
    "Running this installer will bring up a prompt that will walk you through installing Git"
   ]
  },
  {
   "cell_type": "markdown",
   "id": "f956eff5",
   "metadata": {},
   "source": [
    "## How to Know that it Worked"
   ]
  },
  {
   "cell_type": "markdown",
   "id": "b026f84b",
   "metadata": {},
   "source": [
    "Go to the file browser on your computer, and then right click (Windows) or control click (Mac) on a file. If you now see an option to ```Git Bash Here``` then your installation was successful, and you're where you need to be for our next workshop!"
   ]
  },
  {
   "cell_type": "markdown",
   "id": "69f9eb7c",
   "metadata": {},
   "source": [
    "If you run into trouble during the installation process, contact Preston at preston.d.abraham@vanderbilt.edu with a description of the problems you're having, or plan to arrive to the workshop 15-20 minutes early, and we'll make sure you get everything sorted out"
   ]
  }
 ],
 "metadata": {
  "kernelspec": {
   "display_name": "Python 3",
   "language": "python",
   "name": "python3"
  },
  "language_info": {
   "codemirror_mode": {
    "name": "ipython",
    "version": 3
   },
   "file_extension": ".py",
   "mimetype": "text/x-python",
   "name": "python",
   "nbconvert_exporter": "python",
   "pygments_lexer": "ipython3",
   "version": "3.7.9"
  }
 },
 "nbformat": 4,
 "nbformat_minor": 5
}
