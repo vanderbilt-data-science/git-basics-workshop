{
 "cells": [
  {
   "cell_type": "markdown",
   "id": "2678677b",
   "metadata": {},
   "source": [
    "# Git Basics"
   ]
  },
  {
   "cell_type": "markdown",
   "id": "bd6bcd8e",
   "metadata": {},
   "source": [
    "- Git Clone\n",
    "- Status\n",
    "- Add, rm, diff, mv\n",
    "- Commit, -m\n",
    "- Restore"
   ]
  },
  {
   "cell_type": "code",
   "execution_count": null,
   "id": "8d4b4948",
   "metadata": {},
   "outputs": [],
   "source": []
  }
 ],
 "metadata": {
  "kernelspec": {
   "display_name": "Python 3",
   "language": "python",
   "name": "python3"
  },
  "language_info": {
   "codemirror_mode": {
    "name": "ipython",
    "version": 3
   },
   "file_extension": ".py",
   "mimetype": "text/x-python",
   "name": "python",
   "nbconvert_exporter": "python",
   "pygments_lexer": "ipython3",
   "version": "3.7.9"
  }
 },
 "nbformat": 4,
 "nbformat_minor": 5
}
